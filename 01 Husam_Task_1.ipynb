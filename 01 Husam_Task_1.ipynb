{
  "nbformat": 4,
  "nbformat_minor": 0,
  "metadata": {
    "colab": {
      "provenance": []
    },
    "kernelspec": {
      "name": "python3",
      "display_name": "Python 3"
    },
    "language_info": {
      "name": "python"
    }
  },
  "cells": [
    {
      "cell_type": "markdown",
      "source": [
        "# Task 1.1. Write a Python program that asks the user to enter their name and their age. Store these in two separate variables and then print a message that includes both of these details.\n"
      ],
      "metadata": {
        "id": "5efA1KQ7Tjrk"
      }
    },
    {
      "cell_type": "code",
      "source": [
        "# Welcoming\n",
        "print(\"Welcome to the new class. Would you please provide us with your name?\")\n",
        "\n",
        "# ask for a name and name validation\n",
        "while True:\n",
        "    name = str(input(\"Would you please enter your lovely name? \\nThank You! \\n\"))\n",
        "    if name.isalpha():\n",
        "      capitalization = name.title()\n",
        "      break\n",
        "    else:\n",
        "      print (\"Please enter a valid name containing only alphabetic characters.\")\n",
        "\n",
        "# ask for an age\n",
        "while True:\n",
        "  age = (input(\"Now, would you please provide us with your age?\"))\n",
        "# age validation and when we were born\n",
        "  if age.isdigit():\n",
        "      year = 2024 - int(age)\n",
        "      print (f\"Your name is {capitalization} and your age is {age}, which means you were born in {year}. Thank you for playing with me!\")\n",
        "      break\n",
        "  else:\n",
        "      print(\"You must enter a valid number for age.\")"
      ],
      "metadata": {
        "id": "Z0_sa_xpTptV",
        "colab": {
          "base_uri": "https://localhost:8080/"
        },
        "outputId": "fbb60c62-46d4-4f95-b125-0e3d7f166be1"
      },
      "execution_count": null,
      "outputs": [
        {
          "output_type": "stream",
          "name": "stdout",
          "text": [
            "Welcome to the new class. Would you please provide us with your name?\n",
            "Would you please enter your lovely name? \n",
            "Thank You! \n",
            "hosam\n",
            "Now, would you please provide us with your age? 25\n",
            "Your name is Hosam and your age is 25, which means you were born in 1999. Thank you for playing with me!\n"
          ]
        }
      ]
    },
    {
      "cell_type": "markdown",
      "source": [
        "# Task 1.2. Create a Python script that takes two numbers as input from the user. Perform addition, subtraction, multiplication, and division on these numbers and display the results."
      ],
      "metadata": {
        "id": "1xtLB5Hvig-w"
      }
    },
    {
      "cell_type": "code",
      "source": [
        "# Welcoming\n",
        "while True:\n",
        "  welcome = \"Hi. Thank you for being here. Let's begin the game!\"\n",
        "  print (welcome)\n",
        "\n",
        "  # Taking numbers from a user\n",
        "  num1 = int(input(\"1. Please enter the first number to make a calculation: \"))\n",
        "  num2 = int(input(\"2. Please enter the second number to make a calculation: \"))\n",
        "\n",
        "  # Print an empty line\n",
        "  print()\n",
        "\n",
        "  # Addition\n",
        "  addition = num1 + num2\n",
        "  print (f\"3. {num1} + {num2} = {addition}\")\n",
        "\n",
        "  # Subtraction\n",
        "  subtraction = num1 - num2\n",
        "  print (f\"4. {num1} - {num2} = {subtraction}\")\n",
        "\n",
        "  # Multiplication\n",
        "  multiplication = num1 * num2\n",
        "  print (f\"5. {num1} * {num2} = {multiplication}\")\n",
        "\n",
        "  # Division\n",
        "  if num2 != 0:\n",
        "    division = num1 / num2\n",
        "    print (f\"6. {num1} / {num2} = {division}\")\n",
        "  else:\n",
        "    print (\"Choose another number, you can't divide a number by zero \")\n",
        "\n",
        "  play_again = input(\"Do you want to play again? (yes/no): \")\n",
        "  if play_again.lower() != \"yes\":\n",
        "      print(\"Exiting the program. Goodbye!\")\n",
        "      break"
      ],
      "metadata": {
        "id": "tdObymKpXaOL",
        "colab": {
          "base_uri": "https://localhost:8080/"
        },
        "outputId": "46da4b58-a3f7-4565-9baa-d48b35282e22"
      },
      "execution_count": null,
      "outputs": [
        {
          "output_type": "stream",
          "name": "stdout",
          "text": [
            "Hi. Thank you for being here. Let's begin the game!\n",
            "1. Please enter the first number to make a calculation: 5\n",
            "2. Please enter the second number to make a calculation: 3\n",
            "\n",
            "3. 5 + 3 = 8\n",
            "4. 5 - 3 = 2\n",
            "5. 5 * 3 = 15\n",
            "6. 5 / 3 = 1.6666666666666667\n",
            "Do you want to play again? (yes/no): yes\n",
            "Hi. Thank you for being here. Let's begin the game!\n",
            "1. Please enter the first number to make a calculation: 2\n",
            "2. Please enter the second number to make a calculation: 4\n",
            "\n",
            "3. 2 + 4 = 6\n",
            "4. 2 - 4 = -2\n",
            "5. 2 * 4 = 8\n",
            "6. 2 / 4 = 0.5\n",
            "Do you want to play again? (yes/no): no\n",
            "Exiting the program. Goodbye!\n"
          ]
        }
      ]
    },
    {
      "cell_type": "markdown",
      "source": [
        "# Task 1.3. Write a Python program that calculates the area of a square. The program should prompt the user to input the length and width of the square. Use an f-string to output a message that says \"The area of the square is [result]\" with the result calculated based on the input."
      ],
      "metadata": {
        "id": "czXNBw_6i2jj"
      }
    },
    {
      "cell_type": "code",
      "source": [
        "# welcoming\n",
        "welcome = \"Hi. Thank you for being here. Let's begin the game!\"\n",
        "print (welcome)\n",
        "\n",
        "# Putting a length of a square\n",
        "length = float(input(\"Would you please enter the length of the square \"))\n",
        "width = float(input(\"Would you please enter the width of the square \"))\n",
        "\n",
        "# result\n",
        "print (f\"The area of the square is {[length * width]}.\")\n"
      ],
      "metadata": {
        "id": "wZEn_ClTkmTX",
        "colab": {
          "base_uri": "https://localhost:8080/"
        },
        "outputId": "258d7fb3-81c2-47e3-cd42-68c18de7b8c0"
      },
      "execution_count": null,
      "outputs": [
        {
          "output_type": "stream",
          "name": "stdout",
          "text": [
            "Hi. Thank you for being here. Let's begin the game!\n",
            "Would you please enter the length of the square 5\n",
            "Would you please enter the width of the square 7\n",
            "The area of the square is [35.0].\n"
          ]
        }
      ]
    },
    {
      "cell_type": "markdown",
      "source": [
        "# Task 1.4. Develop a Python program that prints out a list of your favorite hobbies. Use the print function to display each hobby on a new line."
      ],
      "metadata": {
        "id": "8CLe8HzzjOM_"
      }
    },
    {
      "cell_type": "code",
      "source": [
        "from typing_extensions import get_origin\n",
        "# welcoming\n",
        "welcome = \"Hi. Thank you for being here. Happy to share my real hobbies here! \\n\"\n",
        "print (welcome)\n",
        "\n",
        "# listing my hobbies in a list\n",
        "my_hobbies = [\"Learning and thinking.\",\n",
        "              \"Engaging in scientific discussions and debates.\",\n",
        "              \"Utilizing Science to establish and develop systems that make people better and happier.\",\n",
        "              \"Building and strengthing healthy and fruitful professional and intellectual relationships.\",\n",
        "              \"Combining several sciences within market research contexts to innovate new services.\"]\n",
        "\n",
        "# print the hobbies\n",
        "while True:\n",
        "  user_input = input(\"Write [Go] if you would like to know my fantastic hobbies \\n \\n\")\n",
        "\n",
        "  if user_input.lower() == \"go\":\n",
        "    print (\"\\n1-\", my_hobbies[0])\n",
        "    print (\"2-\", my_hobbies[1])\n",
        "    print (\"3-\", my_hobbies[2])\n",
        "    print (\"4-\", my_hobbies[3])\n",
        "    print (\"5-\", my_hobbies[4])\n",
        "    break  # Exit the loop after displaying hobbies\n",
        "\n",
        "  else:\n",
        "    print (\"You can't know my hobbies if you didn't write [Go] \\n\")"
      ],
      "metadata": {
        "id": "Ef-baIIRknS6",
        "colab": {
          "base_uri": "https://localhost:8080/"
        },
        "outputId": "f4bdca83-290a-4866-b482-13161d7d5cfb"
      },
      "execution_count": null,
      "outputs": [
        {
          "output_type": "stream",
          "name": "stdout",
          "text": [
            "Hi. Thank you for being here. Happy to share my real hobbies here! \n",
            "\n",
            "Write [Go] if you would like to know my fantastic hobbies \n",
            " \n",
            "go\n",
            "\n",
            "1- Learning and thinking.\n",
            "2- Engaging in scientific discussions and debates.\n",
            "3- Utilizing Science to establish and develop systems that make people better and happier.\n",
            "4- Building and strengthing healthy and fruitful professional and intellectual relationships.\n",
            "5- Combining several sciences within market research contexts to innovate new services.\n"
          ]
        }
      ]
    },
    {
      "cell_type": "markdown",
      "source": [
        "# Task 1.5. Write a Python script that defines three variables: an integer, a floating-point number, and a string. Print the type of each variable using the type () function."
      ],
      "metadata": {
        "id": "pImH9TWdjlDu"
      }
    },
    {
      "cell_type": "code",
      "source": [
        "# defining variables\n",
        "integer = 1\n",
        "Float = 1.2\n",
        "string = \"Husam\"\n",
        "\n",
        "# knowing its types\n",
        "print (type(integer))\n",
        "print (type(Float))\n",
        "print (type(string))"
      ],
      "metadata": {
        "id": "V8NQDOaokf2F",
        "colab": {
          "base_uri": "https://localhost:8080/"
        },
        "outputId": "afb30f08-7ab5-4314-9962-86798d9a1883"
      },
      "execution_count": null,
      "outputs": [
        {
          "output_type": "stream",
          "name": "stdout",
          "text": [
            "<class 'int'>\n",
            "<class 'float'>\n",
            "<class 'str'>\n"
          ]
        }
      ]
    }
  ]
}