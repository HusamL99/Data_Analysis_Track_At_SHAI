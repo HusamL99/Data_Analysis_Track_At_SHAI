{
  "cells": [
    {
      "cell_type": "markdown",
      "metadata": {
        "id": "sjZU4KZDrRbn"
      },
      "source": [
        "___\n",
        "\n",
        "<a href='http://www.pieriandata.com'> <img src='../../Pierian_Data_Logo.png' /></a>\n",
        "___"
      ]
    },
    {
      "cell_type": "markdown",
      "metadata": {
        "id": "KEa3c8wnrRbq"
      },
      "source": [
        "# SF Salaries Exercise\n",
        "\n",
        "Welcome to a quick exercise for you to practice your pandas skills! We will be using the [SF Salaries Dataset](https://www.kaggle.com/kaggle/sf-salaries) from Kaggle! Just follow along and complete the tasks outlined in bold below. The tasks will get harder and harder as you go along."
      ]
    },
    {
      "cell_type": "markdown",
      "metadata": {
        "id": "CPSc8aChrRbr"
      },
      "source": [
        "## 5.1.\n",
        "** Import pandas as pd.**"
      ]
    },
    {
      "cell_type": "code",
      "execution_count": null,
      "metadata": {
        "collapsed": true,
        "id": "LlD_3qsHrRbr"
      },
      "outputs": [],
      "source": [
        "import pandas as pd\n"
      ]
    },
    {
      "cell_type": "markdown",
      "metadata": {
        "id": "3eDweTEGrRbs"
      },
      "source": [
        "## 5.2.\n",
        "** Read Salaries.csv as a dataframe called sal.**"
      ]
    },
    {
      "cell_type": "code",
      "execution_count": null,
      "metadata": {
        "id": "dKweuxngrRbs"
      },
      "outputs": [],
      "source": [
        "df = pd.read_csv('/content/Salaries.csv')"
      ]
    },
    {
      "cell_type": "markdown",
      "metadata": {
        "id": "e65cKy4jrRbs"
      },
      "source": [
        "## 5.3.\n",
        "** Check the head of the DataFrame. **"
      ]
    },
    {
      "cell_type": "code",
      "execution_count": null,
      "metadata": {
        "id": "TF25zoPBrRbs",
        "colab": {
          "base_uri": "https://localhost:8080/",
          "height": 487
        },
        "outputId": "8403d22a-0f7f-4507-a970-9156a7e2546f"
      },
      "outputs": [
        {
          "output_type": "execute_result",
          "data": {
            "text/plain": [
              "   Id       EmployeeName                                        JobTitle  \\\n",
              "0   1     NATHANIEL FORD  GENERAL MANAGER-METROPOLITAN TRANSIT AUTHORITY   \n",
              "1   2       GARY JIMENEZ                 CAPTAIN III (POLICE DEPARTMENT)   \n",
              "2   3     ALBERT PARDINI                 CAPTAIN III (POLICE DEPARTMENT)   \n",
              "3   4  CHRISTOPHER CHONG            WIRE ROPE CABLE MAINTENANCE MECHANIC   \n",
              "4   5    PATRICK GARDNER    DEPUTY CHIEF OF DEPARTMENT,(FIRE DEPARTMENT)   \n",
              "\n",
              "     BasePay  OvertimePay   OtherPay  Benefits   TotalPay  TotalPayBenefits  \\\n",
              "0  167411.18         0.00  400184.25       NaN  567595.43         567595.43   \n",
              "1  155966.02    245131.88  137811.38       NaN  538909.28         538909.28   \n",
              "2  212739.13    106088.18   16452.60       NaN  335279.91         335279.91   \n",
              "3   77916.00     56120.71  198306.90       NaN  332343.61         332343.61   \n",
              "4  134401.60      9737.00  182234.59       NaN  326373.19         326373.19   \n",
              "\n",
              "   Year  Notes         Agency  Status  \n",
              "0  2011    NaN  San Francisco     NaN  \n",
              "1  2011    NaN  San Francisco     NaN  \n",
              "2  2011    NaN  San Francisco     NaN  \n",
              "3  2011    NaN  San Francisco     NaN  \n",
              "4  2011    NaN  San Francisco     NaN  "
            ],
            "text/html": [
              "\n",
              "  <div id=\"df-8b9b9ef6-a3dc-46b1-9856-63d74d535185\" class=\"colab-df-container\">\n",
              "    <div>\n",
              "<style scoped>\n",
              "    .dataframe tbody tr th:only-of-type {\n",
              "        vertical-align: middle;\n",
              "    }\n",
              "\n",
              "    .dataframe tbody tr th {\n",
              "        vertical-align: top;\n",
              "    }\n",
              "\n",
              "    .dataframe thead th {\n",
              "        text-align: right;\n",
              "    }\n",
              "</style>\n",
              "<table border=\"1\" class=\"dataframe\">\n",
              "  <thead>\n",
              "    <tr style=\"text-align: right;\">\n",
              "      <th></th>\n",
              "      <th>Id</th>\n",
              "      <th>EmployeeName</th>\n",
              "      <th>JobTitle</th>\n",
              "      <th>BasePay</th>\n",
              "      <th>OvertimePay</th>\n",
              "      <th>OtherPay</th>\n",
              "      <th>Benefits</th>\n",
              "      <th>TotalPay</th>\n",
              "      <th>TotalPayBenefits</th>\n",
              "      <th>Year</th>\n",
              "      <th>Notes</th>\n",
              "      <th>Agency</th>\n",
              "      <th>Status</th>\n",
              "    </tr>\n",
              "  </thead>\n",
              "  <tbody>\n",
              "    <tr>\n",
              "      <th>0</th>\n",
              "      <td>1</td>\n",
              "      <td>NATHANIEL FORD</td>\n",
              "      <td>GENERAL MANAGER-METROPOLITAN TRANSIT AUTHORITY</td>\n",
              "      <td>167411.18</td>\n",
              "      <td>0.00</td>\n",
              "      <td>400184.25</td>\n",
              "      <td>NaN</td>\n",
              "      <td>567595.43</td>\n",
              "      <td>567595.43</td>\n",
              "      <td>2011</td>\n",
              "      <td>NaN</td>\n",
              "      <td>San Francisco</td>\n",
              "      <td>NaN</td>\n",
              "    </tr>\n",
              "    <tr>\n",
              "      <th>1</th>\n",
              "      <td>2</td>\n",
              "      <td>GARY JIMENEZ</td>\n",
              "      <td>CAPTAIN III (POLICE DEPARTMENT)</td>\n",
              "      <td>155966.02</td>\n",
              "      <td>245131.88</td>\n",
              "      <td>137811.38</td>\n",
              "      <td>NaN</td>\n",
              "      <td>538909.28</td>\n",
              "      <td>538909.28</td>\n",
              "      <td>2011</td>\n",
              "      <td>NaN</td>\n",
              "      <td>San Francisco</td>\n",
              "      <td>NaN</td>\n",
              "    </tr>\n",
              "    <tr>\n",
              "      <th>2</th>\n",
              "      <td>3</td>\n",
              "      <td>ALBERT PARDINI</td>\n",
              "      <td>CAPTAIN III (POLICE DEPARTMENT)</td>\n",
              "      <td>212739.13</td>\n",
              "      <td>106088.18</td>\n",
              "      <td>16452.60</td>\n",
              "      <td>NaN</td>\n",
              "      <td>335279.91</td>\n",
              "      <td>335279.91</td>\n",
              "      <td>2011</td>\n",
              "      <td>NaN</td>\n",
              "      <td>San Francisco</td>\n",
              "      <td>NaN</td>\n",
              "    </tr>\n",
              "    <tr>\n",
              "      <th>3</th>\n",
              "      <td>4</td>\n",
              "      <td>CHRISTOPHER CHONG</td>\n",
              "      <td>WIRE ROPE CABLE MAINTENANCE MECHANIC</td>\n",
              "      <td>77916.00</td>\n",
              "      <td>56120.71</td>\n",
              "      <td>198306.90</td>\n",
              "      <td>NaN</td>\n",
              "      <td>332343.61</td>\n",
              "      <td>332343.61</td>\n",
              "      <td>2011</td>\n",
              "      <td>NaN</td>\n",
              "      <td>San Francisco</td>\n",
              "      <td>NaN</td>\n",
              "    </tr>\n",
              "    <tr>\n",
              "      <th>4</th>\n",
              "      <td>5</td>\n",
              "      <td>PATRICK GARDNER</td>\n",
              "      <td>DEPUTY CHIEF OF DEPARTMENT,(FIRE DEPARTMENT)</td>\n",
              "      <td>134401.60</td>\n",
              "      <td>9737.00</td>\n",
              "      <td>182234.59</td>\n",
              "      <td>NaN</td>\n",
              "      <td>326373.19</td>\n",
              "      <td>326373.19</td>\n",
              "      <td>2011</td>\n",
              "      <td>NaN</td>\n",
              "      <td>San Francisco</td>\n",
              "      <td>NaN</td>\n",
              "    </tr>\n",
              "  </tbody>\n",
              "</table>\n",
              "</div>\n",
              "    <div class=\"colab-df-buttons\">\n",
              "\n",
              "  <div class=\"colab-df-container\">\n",
              "    <button class=\"colab-df-convert\" onclick=\"convertToInteractive('df-8b9b9ef6-a3dc-46b1-9856-63d74d535185')\"\n",
              "            title=\"Convert this dataframe to an interactive table.\"\n",
              "            style=\"display:none;\">\n",
              "\n",
              "  <svg xmlns=\"http://www.w3.org/2000/svg\" height=\"24px\" viewBox=\"0 -960 960 960\">\n",
              "    <path d=\"M120-120v-720h720v720H120Zm60-500h600v-160H180v160Zm220 220h160v-160H400v160Zm0 220h160v-160H400v160ZM180-400h160v-160H180v160Zm440 0h160v-160H620v160ZM180-180h160v-160H180v160Zm440 0h160v-160H620v160Z\"/>\n",
              "  </svg>\n",
              "    </button>\n",
              "\n",
              "  <style>\n",
              "    .colab-df-container {\n",
              "      display:flex;\n",
              "      gap: 12px;\n",
              "    }\n",
              "\n",
              "    .colab-df-convert {\n",
              "      background-color: #E8F0FE;\n",
              "      border: none;\n",
              "      border-radius: 50%;\n",
              "      cursor: pointer;\n",
              "      display: none;\n",
              "      fill: #1967D2;\n",
              "      height: 32px;\n",
              "      padding: 0 0 0 0;\n",
              "      width: 32px;\n",
              "    }\n",
              "\n",
              "    .colab-df-convert:hover {\n",
              "      background-color: #E2EBFA;\n",
              "      box-shadow: 0px 1px 2px rgba(60, 64, 67, 0.3), 0px 1px 3px 1px rgba(60, 64, 67, 0.15);\n",
              "      fill: #174EA6;\n",
              "    }\n",
              "\n",
              "    .colab-df-buttons div {\n",
              "      margin-bottom: 4px;\n",
              "    }\n",
              "\n",
              "    [theme=dark] .colab-df-convert {\n",
              "      background-color: #3B4455;\n",
              "      fill: #D2E3FC;\n",
              "    }\n",
              "\n",
              "    [theme=dark] .colab-df-convert:hover {\n",
              "      background-color: #434B5C;\n",
              "      box-shadow: 0px 1px 3px 1px rgba(0, 0, 0, 0.15);\n",
              "      filter: drop-shadow(0px 1px 2px rgba(0, 0, 0, 0.3));\n",
              "      fill: #FFFFFF;\n",
              "    }\n",
              "  </style>\n",
              "\n",
              "    <script>\n",
              "      const buttonEl =\n",
              "        document.querySelector('#df-8b9b9ef6-a3dc-46b1-9856-63d74d535185 button.colab-df-convert');\n",
              "      buttonEl.style.display =\n",
              "        google.colab.kernel.accessAllowed ? 'block' : 'none';\n",
              "\n",
              "      async function convertToInteractive(key) {\n",
              "        const element = document.querySelector('#df-8b9b9ef6-a3dc-46b1-9856-63d74d535185');\n",
              "        const dataTable =\n",
              "          await google.colab.kernel.invokeFunction('convertToInteractive',\n",
              "                                                    [key], {});\n",
              "        if (!dataTable) return;\n",
              "\n",
              "        const docLinkHtml = 'Like what you see? Visit the ' +\n",
              "          '<a target=\"_blank\" href=https://colab.research.google.com/notebooks/data_table.ipynb>data table notebook</a>'\n",
              "          + ' to learn more about interactive tables.';\n",
              "        element.innerHTML = '';\n",
              "        dataTable['output_type'] = 'display_data';\n",
              "        await google.colab.output.renderOutput(dataTable, element);\n",
              "        const docLink = document.createElement('div');\n",
              "        docLink.innerHTML = docLinkHtml;\n",
              "        element.appendChild(docLink);\n",
              "      }\n",
              "    </script>\n",
              "  </div>\n",
              "\n",
              "\n",
              "<div id=\"df-89e01cdf-239d-4800-a379-3464f9e08aab\">\n",
              "  <button class=\"colab-df-quickchart\" onclick=\"quickchart('df-89e01cdf-239d-4800-a379-3464f9e08aab')\"\n",
              "            title=\"Suggest charts\"\n",
              "            style=\"display:none;\">\n",
              "\n",
              "<svg xmlns=\"http://www.w3.org/2000/svg\" height=\"24px\"viewBox=\"0 0 24 24\"\n",
              "     width=\"24px\">\n",
              "    <g>\n",
              "        <path d=\"M19 3H5c-1.1 0-2 .9-2 2v14c0 1.1.9 2 2 2h14c1.1 0 2-.9 2-2V5c0-1.1-.9-2-2-2zM9 17H7v-7h2v7zm4 0h-2V7h2v10zm4 0h-2v-4h2v4z\"/>\n",
              "    </g>\n",
              "</svg>\n",
              "  </button>\n",
              "\n",
              "<style>\n",
              "  .colab-df-quickchart {\n",
              "      --bg-color: #E8F0FE;\n",
              "      --fill-color: #1967D2;\n",
              "      --hover-bg-color: #E2EBFA;\n",
              "      --hover-fill-color: #174EA6;\n",
              "      --disabled-fill-color: #AAA;\n",
              "      --disabled-bg-color: #DDD;\n",
              "  }\n",
              "\n",
              "  [theme=dark] .colab-df-quickchart {\n",
              "      --bg-color: #3B4455;\n",
              "      --fill-color: #D2E3FC;\n",
              "      --hover-bg-color: #434B5C;\n",
              "      --hover-fill-color: #FFFFFF;\n",
              "      --disabled-bg-color: #3B4455;\n",
              "      --disabled-fill-color: #666;\n",
              "  }\n",
              "\n",
              "  .colab-df-quickchart {\n",
              "    background-color: var(--bg-color);\n",
              "    border: none;\n",
              "    border-radius: 50%;\n",
              "    cursor: pointer;\n",
              "    display: none;\n",
              "    fill: var(--fill-color);\n",
              "    height: 32px;\n",
              "    padding: 0;\n",
              "    width: 32px;\n",
              "  }\n",
              "\n",
              "  .colab-df-quickchart:hover {\n",
              "    background-color: var(--hover-bg-color);\n",
              "    box-shadow: 0 1px 2px rgba(60, 64, 67, 0.3), 0 1px 3px 1px rgba(60, 64, 67, 0.15);\n",
              "    fill: var(--button-hover-fill-color);\n",
              "  }\n",
              "\n",
              "  .colab-df-quickchart-complete:disabled,\n",
              "  .colab-df-quickchart-complete:disabled:hover {\n",
              "    background-color: var(--disabled-bg-color);\n",
              "    fill: var(--disabled-fill-color);\n",
              "    box-shadow: none;\n",
              "  }\n",
              "\n",
              "  .colab-df-spinner {\n",
              "    border: 2px solid var(--fill-color);\n",
              "    border-color: transparent;\n",
              "    border-bottom-color: var(--fill-color);\n",
              "    animation:\n",
              "      spin 1s steps(1) infinite;\n",
              "  }\n",
              "\n",
              "  @keyframes spin {\n",
              "    0% {\n",
              "      border-color: transparent;\n",
              "      border-bottom-color: var(--fill-color);\n",
              "      border-left-color: var(--fill-color);\n",
              "    }\n",
              "    20% {\n",
              "      border-color: transparent;\n",
              "      border-left-color: var(--fill-color);\n",
              "      border-top-color: var(--fill-color);\n",
              "    }\n",
              "    30% {\n",
              "      border-color: transparent;\n",
              "      border-left-color: var(--fill-color);\n",
              "      border-top-color: var(--fill-color);\n",
              "      border-right-color: var(--fill-color);\n",
              "    }\n",
              "    40% {\n",
              "      border-color: transparent;\n",
              "      border-right-color: var(--fill-color);\n",
              "      border-top-color: var(--fill-color);\n",
              "    }\n",
              "    60% {\n",
              "      border-color: transparent;\n",
              "      border-right-color: var(--fill-color);\n",
              "    }\n",
              "    80% {\n",
              "      border-color: transparent;\n",
              "      border-right-color: var(--fill-color);\n",
              "      border-bottom-color: var(--fill-color);\n",
              "    }\n",
              "    90% {\n",
              "      border-color: transparent;\n",
              "      border-bottom-color: var(--fill-color);\n",
              "    }\n",
              "  }\n",
              "</style>\n",
              "\n",
              "  <script>\n",
              "    async function quickchart(key) {\n",
              "      const quickchartButtonEl =\n",
              "        document.querySelector('#' + key + ' button');\n",
              "      quickchartButtonEl.disabled = true;  // To prevent multiple clicks.\n",
              "      quickchartButtonEl.classList.add('colab-df-spinner');\n",
              "      try {\n",
              "        const charts = await google.colab.kernel.invokeFunction(\n",
              "            'suggestCharts', [key], {});\n",
              "      } catch (error) {\n",
              "        console.error('Error during call to suggestCharts:', error);\n",
              "      }\n",
              "      quickchartButtonEl.classList.remove('colab-df-spinner');\n",
              "      quickchartButtonEl.classList.add('colab-df-quickchart-complete');\n",
              "    }\n",
              "    (() => {\n",
              "      let quickchartButtonEl =\n",
              "        document.querySelector('#df-89e01cdf-239d-4800-a379-3464f9e08aab button');\n",
              "      quickchartButtonEl.style.display =\n",
              "        google.colab.kernel.accessAllowed ? 'block' : 'none';\n",
              "    })();\n",
              "  </script>\n",
              "</div>\n",
              "\n",
              "    </div>\n",
              "  </div>\n"
            ],
            "application/vnd.google.colaboratory.intrinsic+json": {
              "type": "dataframe",
              "variable_name": "df"
            }
          },
          "metadata": {},
          "execution_count": 4
        }
      ],
      "source": [
        "df.head()"
      ]
    },
    {
      "cell_type": "markdown",
      "metadata": {
        "id": "fk4kflVvrRbt"
      },
      "source": [
        "## 5.4.\n",
        "\n",
        "** Use the .info() method to find out how many entries there are.**"
      ]
    },
    {
      "cell_type": "code",
      "execution_count": null,
      "metadata": {
        "id": "INY0kLxkrRbt",
        "colab": {
          "base_uri": "https://localhost:8080/"
        },
        "outputId": "76eb9df0-0c3c-4def-cbda-786bcc27b09e"
      },
      "outputs": [
        {
          "output_type": "stream",
          "name": "stdout",
          "text": [
            "<class 'pandas.core.frame.DataFrame'>\n",
            "RangeIndex: 148654 entries, 0 to 148653\n",
            "Data columns (total 13 columns):\n",
            " #   Column            Non-Null Count   Dtype  \n",
            "---  ------            --------------   -----  \n",
            " 0   Id                148654 non-null  int64  \n",
            " 1   EmployeeName      148654 non-null  object \n",
            " 2   JobTitle          148654 non-null  object \n",
            " 3   BasePay           148045 non-null  float64\n",
            " 4   OvertimePay       148650 non-null  float64\n",
            " 5   OtherPay          148650 non-null  float64\n",
            " 6   Benefits          112491 non-null  float64\n",
            " 7   TotalPay          148654 non-null  float64\n",
            " 8   TotalPayBenefits  148654 non-null  float64\n",
            " 9   Year              148654 non-null  int64  \n",
            " 10  Notes             0 non-null       float64\n",
            " 11  Agency            148654 non-null  object \n",
            " 12  Status            0 non-null       float64\n",
            "dtypes: float64(8), int64(2), object(3)\n",
            "memory usage: 14.7+ MB\n"
          ]
        }
      ],
      "source": [
        "df.info()"
      ]
    },
    {
      "cell_type": "markdown",
      "metadata": {
        "id": "fDnbnh_ErRbt"
      },
      "source": [
        "## 5.5.\n",
        "**What is the average BasePay ?**"
      ]
    },
    {
      "cell_type": "code",
      "execution_count": null,
      "metadata": {
        "id": "37o2CJqhrRbu",
        "colab": {
          "base_uri": "https://localhost:8080/"
        },
        "outputId": "bec067e2-cdd1-4b73-d463-3261c2c1b88b"
      },
      "outputs": [
        {
          "output_type": "stream",
          "name": "stdout",
          "text": [
            "The average BasePay is: 66325.4488404877\n"
          ]
        }
      ],
      "source": [
        "average_basepay = df['BasePay'].mean()\n",
        "\n",
        "print(\"The average BasePay is:\", average_basepay)"
      ]
    },
    {
      "cell_type": "markdown",
      "metadata": {
        "id": "8ghOU48ArRbu"
      },
      "source": [
        "## 5.6.\n",
        "\n",
        "** What is the highest amount of OvertimePay in the dataset ? **"
      ]
    },
    {
      "cell_type": "code",
      "execution_count": null,
      "metadata": {
        "id": "e46u0YFZrRbu",
        "colab": {
          "base_uri": "https://localhost:8080/"
        },
        "outputId": "4dd8c4b9-44d8-46ea-f84c-cf60bdbb17ea"
      },
      "outputs": [
        {
          "output_type": "stream",
          "name": "stdout",
          "text": [
            "The highest amount of OvertimePay is: 245131.88\n"
          ]
        }
      ],
      "source": [
        "highest_OvertimePay = df['OvertimePay'].max()\n",
        "\n",
        "print(\"The highest amount of OvertimePay is:\", highest_OvertimePay)"
      ]
    },
    {
      "cell_type": "markdown",
      "metadata": {
        "id": "PdphLhzprRbu"
      },
      "source": [
        "## 5.7.\n",
        "** What is the job title of  JOSEPH DRISCOLL ? Note: Use all caps, otherwise you may get an answer that doesn't match up (there is also a lowercase Joseph Driscoll). **"
      ]
    },
    {
      "cell_type": "code",
      "execution_count": null,
      "metadata": {
        "id": "K5gomT45rRbu",
        "colab": {
          "base_uri": "https://localhost:8080/"
        },
        "outputId": "47dcf845-9c7a-4990-a7da-c9fb9bfa46ba"
      },
      "outputs": [
        {
          "output_type": "stream",
          "name": "stdout",
          "text": [
            "The job title of JOSEPH DRISCOLL is: CAPTAIN, FIRE SUPPRESSION\n"
          ]
        }
      ],
      "source": [
        "# filter the DataFrame for rows where the EmployeeName is JOSEPH DRISCOLL\n",
        "joseph_driscoll_row = df[df['EmployeeName'] == 'JOSEPH DRISCOLL']\n",
        "\n",
        "# retrieve the job title of JOSEPH DRISCOLL\n",
        "job_title = joseph_driscoll_row['JobTitle'].values[0].upper()\n",
        "\n",
        "print(\"The job title of JOSEPH DRISCOLL is:\", job_title)"
      ]
    },
    {
      "cell_type": "markdown",
      "metadata": {
        "id": "EEDBRImGrRbu"
      },
      "source": [
        "## 5.8.\n",
        "** How much does JOSEPH DRISCOLL make (including benefits)? **"
      ]
    },
    {
      "cell_type": "code",
      "execution_count": null,
      "metadata": {
        "id": "o1Y-fLKyrRbv",
        "colab": {
          "base_uri": "https://localhost:8080/"
        },
        "outputId": "2ffb6b76-91f6-4000-ac8b-f8922bf3b2fd"
      },
      "outputs": [
        {
          "output_type": "stream",
          "name": "stdout",
          "text": [
            "JOSEPH DRISCOLL's total compensation is: 270324.91\n"
          ]
        }
      ],
      "source": [
        "# Filter the DataFrame for rows where the EmployeeName is JOSEPH DRISCOLL\n",
        "joseph_driscoll_row = df[df['EmployeeName'] == 'JOSEPH DRISCOLL']\n",
        "\n",
        "# Retrieve the total compensation of JOSEPH DRISCOLL\n",
        "total_compensation = joseph_driscoll_row['TotalPayBenefits'].values[0]\n",
        "\n",
        "print(\"JOSEPH DRISCOLL's total compensation is:\", total_compensation)"
      ]
    },
    {
      "cell_type": "markdown",
      "metadata": {
        "id": "bNwHFRp7rRbv"
      },
      "source": [
        "## 5.9.\n",
        "** What is the name of highest paid person (including benefits)?**"
      ]
    },
    {
      "cell_type": "code",
      "execution_count": null,
      "metadata": {
        "id": "zBm5xzgurRbv",
        "colab": {
          "base_uri": "https://localhost:8080/"
        },
        "outputId": "b3095f83-7299-41a2-f80e-29165d7300e4"
      },
      "outputs": [
        {
          "output_type": "stream",
          "name": "stdout",
          "text": [
            "The name of the highest paid person (including benefits) is: NATHANIEL FORD\n"
          ]
        }
      ],
      "source": [
        "# find the index of the row with the maximum value in the TotalPayBenefits column\n",
        "highest_paid_index = df['TotalPayBenefits'].idxmax()\n",
        "\n",
        "# retrieve the name of the highest paid person\n",
        "highest_paid_name = df.loc[highest_paid_index, 'EmployeeName']\n",
        "\n",
        "print(\"The name of the highest paid person (including benefits) is:\", highest_paid_name)"
      ]
    },
    {
      "cell_type": "markdown",
      "metadata": {
        "id": "xmhwe6UNrRbv"
      },
      "source": [
        "## 5.10.\n",
        "** What is the name of lowest paid person (including benefits)? Do you notice something strange about how much he or she is paid?**"
      ]
    },
    {
      "cell_type": "code",
      "execution_count": null,
      "metadata": {
        "id": "lLMPZtD7rRbv",
        "colab": {
          "base_uri": "https://localhost:8080/"
        },
        "outputId": "65d8ba4d-eb52-4cf1-c621-d29fb1b83e40"
      },
      "outputs": [
        {
          "output_type": "stream",
          "name": "stdout",
          "text": [
            "The name of the lowest paid person (including benefits) is: Joe Lopez\n",
            "The lowest-paid amount (including benefits) is: -618.13\n"
          ]
        }
      ],
      "source": [
        "# find the index of the row with the minimum value in the TotalPayBenefits column\n",
        "lowest_paid_index = df['TotalPayBenefits'].idxmin()\n",
        "\n",
        "# retrieve the name of the lowest paid person\n",
        "lowest_paid_name = df.loc[lowest_paid_index, 'EmployeeName']\n",
        "\n",
        "print(\"The name of the lowest paid person (including benefits) is:\", lowest_paid_name)\n",
        "\n",
        "# find the lowest value in the TotalPayBenefits column\n",
        "lowest_paid = df['TotalPayBenefits'].min()\n",
        "\n",
        "print(\"The lowest-paid amount (including benefits) is:\", lowest_paid)\n",
        "# it's not logical to have a less-than-zero number as a minimum salary"
      ]
    },
    {
      "cell_type": "markdown",
      "metadata": {
        "id": "4RMWTIMtrRbv"
      },
      "source": [
        "## 5.11.\n",
        "** What was the average (mean) BasePay of all employees per year? (2011-2014) ? **"
      ]
    },
    {
      "cell_type": "code",
      "execution_count": null,
      "metadata": {
        "id": "tFUu_D5HrRbv",
        "colab": {
          "base_uri": "https://localhost:8080/"
        },
        "outputId": "0bf1da9b-6284-48fc-c6d9-e6263e598954"
      },
      "outputs": [
        {
          "output_type": "stream",
          "name": "stdout",
          "text": [
            "Average BasePay per year (2011-2014):\n",
            " Year\n",
            "2011    63595.956517\n",
            "2012    65436.406857\n",
            "2013    69630.030216\n",
            "2014    66564.421924\n",
            "Name: BasePay, dtype: float64\n"
          ]
        }
      ],
      "source": [
        "# filter the DataFrame to include only the years 2011 to 2014\n",
        "filtered_df = df[df['Year'].between(2011, 2014)]\n",
        "\n",
        "# group the filtered DataFrame by the 'Year' column and calculate the mean BasePay for each year\n",
        "average_basepay_per_year = filtered_df.groupby('Year')['BasePay'].mean()\n",
        "\n",
        "print(\"Average BasePay per year (2011-2014):\\n\", average_basepay_per_year)"
      ]
    },
    {
      "cell_type": "markdown",
      "metadata": {
        "id": "T0hexfOcrRbv"
      },
      "source": [
        "## 5.12.\n",
        "** How many unique job titles are there? **"
      ]
    },
    {
      "cell_type": "code",
      "execution_count": null,
      "metadata": {
        "id": "UWY4QDAPrRbw",
        "colab": {
          "base_uri": "https://localhost:8080/"
        },
        "outputId": "c27cd97c-3200-4798-ae8e-2d44bb0bf3ef"
      },
      "outputs": [
        {
          "output_type": "stream",
          "name": "stdout",
          "text": [
            "Number of unique job titles: 2159\n"
          ]
        }
      ],
      "source": [
        "# find the number of unique job titles\n",
        "unique_job_titles = df['JobTitle'].nunique()\n",
        "\n",
        "print(\"Number of unique job titles:\", unique_job_titles)"
      ]
    },
    {
      "cell_type": "markdown",
      "metadata": {
        "id": "hIgXwVOYrRbw"
      },
      "source": [
        "## 5.13.\n",
        "** What are the top 5 most common jobs? **"
      ]
    },
    {
      "cell_type": "code",
      "execution_count": null,
      "metadata": {
        "id": "oeXblRoIrRbw",
        "colab": {
          "base_uri": "https://localhost:8080/"
        },
        "outputId": "7f8389db-5712-47fe-eef6-7bf12ae11580"
      },
      "outputs": [
        {
          "output_type": "stream",
          "name": "stdout",
          "text": [
            "Top 5 most common jobs:\n",
            "Transit Operator                7036\n",
            "Special Nurse                   4389\n",
            "Registered Nurse                3736\n",
            "Public Svc Aide-Public Works    2518\n",
            "Police Officer 3                2421\n",
            "Name: JobTitle, dtype: int64\n"
          ]
        }
      ],
      "source": [
        "# count the occurrences of each job title and select the top 5\n",
        "top_5_jobs = df['JobTitle'].value_counts().head(5)\n",
        "\n",
        "print(\"Top 5 most common jobs:\")\n",
        "print(top_5_jobs)"
      ]
    },
    {
      "cell_type": "markdown",
      "metadata": {
        "id": "udtFdicJrRbw"
      },
      "source": [
        "## 5.14.\n",
        "** How many Job Titles were represented by only one person in 2013? (e.g. Job Titles with only one occurence in 2013?) **"
      ]
    },
    {
      "cell_type": "code",
      "execution_count": null,
      "metadata": {
        "id": "Q-CXib-arRbw",
        "colab": {
          "base_uri": "https://localhost:8080/"
        },
        "outputId": "8581036d-eadb-4277-ed51-55075d321b23"
      },
      "outputs": [
        {
          "output_type": "stream",
          "name": "stdout",
          "text": [
            "Number of job titles represented by only one person in 2013: 202\n"
          ]
        }
      ],
      "source": [
        "# filter the DataFrame to include only the rows for the year 2013\n",
        "df_2013 = df[df['Year'] == 2013]\n",
        "\n",
        "# count the occurrences of each job title\n",
        "job_title_counts = df_2013['JobTitle'].value_counts()\n",
        "\n",
        "# count the number of job titles represented by only one person\n",
        "job_titles_one_person = (job_title_counts == 1).sum()\n",
        "\n",
        "print(\"Number of job titles represented by only one person in 2013:\", job_titles_one_person)"
      ]
    },
    {
      "cell_type": "markdown",
      "metadata": {
        "id": "70CpQFD3rRbw"
      },
      "source": [
        "## 5.15.\n",
        "** How many people have the word Chief in their job title? (This is pretty tricky) **"
      ]
    },
    {
      "cell_type": "code",
      "execution_count": null,
      "metadata": {
        "collapsed": true,
        "id": "iEk-fNDKrRbw",
        "colab": {
          "base_uri": "https://localhost:8080/"
        },
        "outputId": "f64b198d-f2d5-4737-d39f-5f50b71bb74c"
      },
      "outputs": [
        {
          "output_type": "stream",
          "name": "stdout",
          "text": [
            "Number of people with the word 'Chief' in their job title: 627\n"
          ]
        }
      ],
      "source": [
        "# use a regular expression with word boundaries to find rows where the 'JobTitle' contains the word 'Chief'\n",
        "chief_jobs = df[df['JobTitle'].str.contains(r'\\bChief\\b', case=False, regex=True)]\n",
        "\n",
        "# count the number of rows (i.e., people) in the filtered DataFrame\n",
        "number_of_chiefs = len(chief_jobs)\n",
        "\n",
        "print(\"Number of people with the word 'Chief' in their job title:\", number_of_chiefs)"
      ]
    },
    {
      "cell_type": "markdown",
      "metadata": {
        "id": "7vciy0-GrRbx"
      },
      "source": [
        "## 5.16.\n",
        "** Bonus: Is there a correlation between length of the Job Title string and Salary? **"
      ]
    },
    {
      "cell_type": "code",
      "execution_count": null,
      "metadata": {
        "id": "wL-X1XutrRbx",
        "colab": {
          "base_uri": "https://localhost:8080/"
        },
        "outputId": "3293222a-1ca9-4252-903b-d56fd1614fc9"
      },
      "outputs": [
        {
          "output_type": "stream",
          "name": "stdout",
          "text": [
            "Pearson correlation coefficient between Job Title Length and Total Pay Benefits: -0.036878445932606675\n",
            "A Pearson correlation coefficient of approximately -0.037 suggests \n",
            "a very weak negative linear relationship between the length of the job title string and the total pay benefits.\n"
          ]
        }
      ],
      "source": [
        "# calculate the length of the job title string for each row\n",
        "df['JobTitleLength'] = df['JobTitle'].str.len()\n",
        "\n",
        "# calculate the Pearson correlation coefficient between JobTitleLength and TotalPayBenefits\n",
        "correlation = df['JobTitleLength'].corr(df['TotalPayBenefits'])\n",
        "\n",
        "print(\"Pearson correlation coefficient between Job Title Length and Total Pay Benefits:\", correlation)\n",
        "print (\"A Pearson correlation coefficient of approximately -0.037 suggests \\na very weak negative linear relationship between the length of the job title string and the total pay benefits.\")"
      ]
    },
    {
      "cell_type": "markdown",
      "metadata": {
        "id": "GaXRNKHgrRbx"
      },
      "source": [
        "# Great Job!"
      ]
    }
  ],
  "metadata": {
    "kernelspec": {
      "display_name": "Python 3",
      "language": "python",
      "name": "python3"
    },
    "language_info": {
      "codemirror_mode": {
        "name": "ipython",
        "version": 3
      },
      "file_extension": ".py",
      "mimetype": "text/x-python",
      "name": "python",
      "nbconvert_exporter": "python",
      "pygments_lexer": "ipython3",
      "version": "3.5.1"
    },
    "colab": {
      "provenance": []
    }
  },
  "nbformat": 4,
  "nbformat_minor": 0
}