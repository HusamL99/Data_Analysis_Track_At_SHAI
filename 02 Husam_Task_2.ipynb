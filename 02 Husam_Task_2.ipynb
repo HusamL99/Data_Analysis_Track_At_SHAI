{
  "nbformat": 4,
  "nbformat_minor": 0,
  "metadata": {
    "colab": {
      "provenance": []
    },
    "kernelspec": {
      "name": "python3",
      "display_name": "Python 3"
    },
    "language_info": {
      "name": "python"
    }
  },
  "cells": [
    {
      "cell_type": "markdown",
      "source": [
        "2.1. Write a Python program that checks if a variable age is greater than 18. If it is, print \"Adult\", otherwise print \"Minor\".\n"
      ],
      "metadata": {
        "id": "-wHXeZX73n3n"
      }
    },
    {
      "cell_type": "code",
      "execution_count": null,
      "metadata": {
        "colab": {
          "base_uri": "https://localhost:8080/"
        },
        "id": "460RoTp1163R",
        "outputId": "f249c1dd-f051-440c-a43d-fe97777e0ce4"
      },
      "outputs": [
        {
          "name": "stdout",
          "output_type": "stream",
          "text": [
            "Welcome to the age game!\n",
            "\n",
            "Enter your age: 25\n",
            "You are an adult.\n",
            "Would you like to play again? (yes or no) no\n"
          ]
        }
      ],
      "source": [
        "# welcming\n",
        "print (\"Welcome to the age game!\")\n",
        "print ()\n",
        "\n",
        "while True:\n",
        "  # assigning a variable\n",
        "  age = input(\"Enter your age: \")\n",
        "\n",
        "  # define whether Multiple Age Checks (child, teenager, adult, senior citizen), error handling and printing a result\n",
        "  if age.isdigit():\n",
        "      age = int(age)\n",
        "      if age <= 0:\n",
        "        print(\"A negative number is being used. Please enter a positive integer.\")\n",
        "      elif age < 13:\n",
        "          print(\"You are a child.\")\n",
        "      elif age < 20:\n",
        "          print(\"You are a teenager.\")\n",
        "      elif age < 65:\n",
        "          print(\"You are an adult.\")\n",
        "      else:\n",
        "          print(\"You are a senior citizen.\")\n",
        "  else:\n",
        "      print(\"Invalid input! Please enter a valid number.\" )\n",
        "\n",
        "  # break the game\n",
        "  stop = input (\"Would you like to play again? (yes or no) \")\n",
        "  if stop.lower() == \"no\":\n",
        "    break\n",
        "\n"
      ]
    },
    {
      "cell_type": "markdown",
      "source": [
        "2.2. Write a Python program using a for loop that prints numbers from 1 to 16.\n"
      ],
      "metadata": {
        "id": "qU_t8Oxr3tWg"
      }
    },
    {
      "cell_type": "code",
      "source": [
        "# welcming\n",
        "print (\"Welcome to the number game!\")\n",
        "print ()\n",
        "\n",
        "# assigning a loop\n",
        "for x in range(1, 17):\n",
        "  if x % 2 == 0:\n",
        "    print (f\"{x} is an even number!\")\n",
        "  else:\n",
        "    print (f\"{x} is an odd number!\")\n",
        "\n",
        "# print the numbers in reverse order\n",
        "print ()\n",
        "for y in range(-16, 2, 4):\n",
        "  print (y)"
      ],
      "metadata": {
        "colab": {
          "base_uri": "https://localhost:8080/"
        },
        "id": "wvwAVENlHQsZ",
        "outputId": "11e55396-c549-4424-9ac1-631c5faa6b0b"
      },
      "execution_count": null,
      "outputs": [
        {
          "output_type": "stream",
          "name": "stdout",
          "text": [
            "Welcome to the number game!\n",
            "\n",
            "1 is an odd number!\n",
            "2 is an even number!\n",
            "3 is an odd number!\n",
            "4 is an even number!\n",
            "5 is an odd number!\n",
            "6 is an even number!\n",
            "7 is an odd number!\n",
            "8 is an even number!\n",
            "9 is an odd number!\n",
            "10 is an even number!\n",
            "11 is an odd number!\n",
            "12 is an even number!\n",
            "13 is an odd number!\n",
            "14 is an even number!\n",
            "15 is an odd number!\n",
            "16 is an even number!\n",
            "\n",
            "-16\n",
            "-12\n",
            "-8\n",
            "-4\n",
            "0\n"
          ]
        }
      ]
    },
    {
      "cell_type": "markdown",
      "source": [
        "2.3. Create a Python program with a while loop that keeps printing \"Learning Python\" until a variable counter reaches 3.\n"
      ],
      "metadata": {
        "id": "CW6YnCDM33e7"
      }
    },
    {
      "cell_type": "code",
      "source": [
        "# welcming\n",
        "print (\"Welcome to the loop game!\")\n",
        "print ()\n",
        "\n",
        "# assigning a loop\n",
        "counter = 1\n",
        "while counter <= 3:\n",
        "  print (\"Learning Pytion\")\n",
        "  counter = counter + 1\n",
        "\n",
        "print ()\n",
        "print (\"We finished!\")\n"
      ],
      "metadata": {
        "colab": {
          "base_uri": "https://localhost:8080/"
        },
        "id": "HpyIYMN-KAp_",
        "outputId": "58c01df4-9844-41b5-b223-e138d2876aff"
      },
      "execution_count": null,
      "outputs": [
        {
          "output_type": "stream",
          "name": "stdout",
          "text": [
            "Welcome to the loop game!\n",
            "\n",
            "Learning Pytion\n",
            "Learning Pytion\n",
            "Learning Pytion\n",
            "\n",
            "We finished!\n"
          ]
        }
      ]
    },
    {
      "cell_type": "markdown",
      "source": [
        "2.4. Write a Python program that defines two variables, temperature and humidity. Print \"Wear light clothes\" if the temperature is above 30 degrees or the humidity is above 70%.\n"
      ],
      "metadata": {
        "id": "Xvv6Rf9z37pR"
      }
    },
    {
      "cell_type": "code",
      "source": [
        "# welcming\n",
        "print (\"Welcome to the temperature game!\")\n",
        "print ()\n",
        "\n",
        "# accept user input for temperature and humidity\n",
        "while True:\n",
        "  temperature = float(input(\"Enter the temperature (in degrees Celsius): \"))\n",
        "  humidity = float(input(\"Enter the humidity (in percentage): \"))\n",
        "\n",
        "  # implement conditions based on temperature and humidity ranges\n",
        "  if temperature < 10 and humidity < 50:\n",
        "        print(\"It's cold and dry. Wear warm clothes and moisturize your skin.\")\n",
        "  elif temperature < 10 and humidity >= 50:\n",
        "        print(\"It's cold but humid. Dress warmly and stay indoors if possible.\")\n",
        "  elif 10 <= temperature <= 20 and humidity < 50:\n",
        "        print(\"It's cool and dry. Dress in layers and stay hydrated.\")\n",
        "  elif 10 <= temperature <= 20 and humidity >= 50:\n",
        "        print(\"It's cool and humid. Dress comfortably and keep hydrated.\")\n",
        "  elif temperature > 20 and humidity < 50:\n",
        "        print(\"It's warm and dry. Dress lightly and use sunscreen.\")\n",
        "  else:\n",
        "        print(\"It's warm and humid. Stay cool and drink plenty of water.\")\n",
        "\n",
        "  stop = input(\"Would you like to play again? (yes or no) \").lower()\n",
        "  if stop == \"no\":\n",
        "    break"
      ],
      "metadata": {
        "colab": {
          "base_uri": "https://localhost:8080/"
        },
        "id": "XD952hJ4Ow1C",
        "outputId": "a32d4392-e914-494d-e96c-adfcc903a5d2"
      },
      "execution_count": null,
      "outputs": [
        {
          "name": "stdout",
          "output_type": "stream",
          "text": [
            "Welcome to the temperature game!\n",
            "\n",
            "Enter the temperature (in degrees Celsius): 50\n",
            "Enter the humidity (in percentage): 20\n",
            "It's warm and dry. Dress lightly and use sunscreen.\n",
            "Would you like to play again? (yes or no) no\n"
          ]
        }
      ]
    },
    {
      "cell_type": "markdown",
      "source": [
        "2.5. Write a Python program that uses a for loop to iterate over a list of numbers from 1 to 50 and prints each number if it is even.\n"
      ],
      "metadata": {
        "id": "Ci_TUE284AUr"
      }
    },
    {
      "cell_type": "code",
      "source": [
        "# welcming\n",
        "print (\"Welcome to the numbers game!\")\n",
        "print ()\n",
        "\n",
        "# assigning a loop\n",
        "for num in range (1, 51):\n",
        "  if num % 2 == 0:\n",
        "    print (num)"
      ],
      "metadata": {
        "colab": {
          "base_uri": "https://localhost:8080/"
        },
        "id": "YYKfJDvZTwB1",
        "outputId": "8dc6a098-f633-4f19-a700-0d440d37ba66"
      },
      "execution_count": 3,
      "outputs": [
        {
          "output_type": "stream",
          "name": "stdout",
          "text": [
            "Welcome to the numbers game!\n",
            "\n",
            "2\n",
            "4\n",
            "6\n",
            "8\n",
            "10\n",
            "12\n",
            "14\n",
            "16\n",
            "18\n",
            "20\n",
            "22\n",
            "24\n",
            "26\n",
            "28\n",
            "30\n",
            "32\n",
            "34\n",
            "36\n",
            "38\n",
            "40\n",
            "42\n",
            "44\n",
            "46\n",
            "48\n",
            "50\n"
          ]
        }
      ]
    },
    {
      "cell_type": "markdown",
      "source": [
        "2.6. Create a Python program using a while loop that continuously asks the user to enter a number. If the user enters the number 0, the program should break out of the loop and print \"Exit\" .\n"
      ],
      "metadata": {
        "id": "J4Yf1SRt4EmB"
      }
    },
    {
      "cell_type": "code",
      "source": [
        "# welcming\n",
        "print (\"Welcome to the numbers game!\")\n",
        "print ()\n",
        "\n",
        "# assigning a loop\n",
        "while True:\n",
        "  num = float (input(\"Enter a number: \"))\n",
        "  if num == 0:\n",
        "    print (\"Exit\")\n",
        "    break"
      ],
      "metadata": {
        "colab": {
          "base_uri": "https://localhost:8080/"
        },
        "id": "b7Wni6obVTsj",
        "outputId": "5dab70ee-1bcc-4a26-a588-141761a9950b"
      },
      "execution_count": null,
      "outputs": [
        {
          "output_type": "stream",
          "name": "stdout",
          "text": [
            "Welcome to the numvers game!\n",
            "\n",
            "Enter a number: 5\n",
            "Enter a number: 9\n",
            "Enter a number: 3\n",
            "Enter a number: 1\n",
            "Enter a number: 5\n",
            "Enter a number: 0\n",
            "Exit\n"
          ]
        }
      ]
    },
    {
      "cell_type": "markdown",
      "source": [
        "2.7. (Optional Question): Write a Python program that uses nested loops (for or while) to print a pattern. For each number from 1 to 5, it should print that many asterisks (*) in a row. For example, the first line should have 1 asterisk, the second line 2 asterisks, and so on. Additionally, include an if condition inside the inner loop to only print asterisks for odd numbers. So, the output should skip lines for even numbers.\n"
      ],
      "metadata": {
        "id": "EFOlw95u4Hot"
      }
    },
    {
      "cell_type": "code",
      "source": [
        "# welcming\n",
        "print (\"Welcome to the numbers game!\")\n",
        "print ()\n",
        "\n",
        "# outer loop to iterate over numbers from 1 to 5\n",
        "for num in range(1, 6):\n",
        "  # inner loop to print asterisks for odd numbers only\n",
        "    if num % 2 != 0:\n",
        "      for _ in range(num):\n",
        "            print(\"*\", end=\"\")\n",
        "      print()  # move to the next line after printing asterisks"
      ],
      "metadata": {
        "id": "Xe4Uz2J44JuU",
        "outputId": "4547c226-f1ea-4e12-950a-c5492d7cb5cc",
        "colab": {
          "base_uri": "https://localhost:8080/"
        }
      },
      "execution_count": 16,
      "outputs": [
        {
          "output_type": "stream",
          "name": "stdout",
          "text": [
            "Welcome to the numbers game!\n",
            "\n",
            "*\n",
            "***\n",
            "*****\n"
          ]
        }
      ]
    }
  ]
}
