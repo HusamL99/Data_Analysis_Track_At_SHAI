{
  "cells": [
    {
      "cell_type": "markdown",
      "metadata": {
        "id": "HxUdrqAuCfwP"
      },
      "source": [
        "# NumPy Exercises\n",
        "\n",
        "Now that we've learned about NumPy let's test your knowledge. We'll start off with a few simple tasks, and then you'll be asked some more complicated questions."
      ]
    },
    {
      "cell_type": "markdown",
      "metadata": {
        "id": "dXOJhB_ZCfwR"
      },
      "source": [
        "#### 4.1. Import NumPy as np"
      ]
    },
    {
      "cell_type": "code",
      "execution_count": 2,
      "metadata": {
        "collapsed": true,
        "id": "aZxsEOtTCfwS"
      },
      "outputs": [],
      "source": [
        "import numpy as np\n",
        "# Or import numpy\n",
        "# the \"as\" keyword is used for aliasing or renaming imported libraries and modules"
      ]
    },
    {
      "cell_type": "markdown",
      "metadata": {
        "id": "9o40ibqvCfwS"
      },
      "source": [
        "#### 4.2. Create an array of 10 zeros"
      ]
    },
    {
      "cell_type": "code",
      "execution_count": null,
      "metadata": {
        "id": "_BvMSQSJCfwT",
        "colab": {
          "base_uri": "https://localhost:8080/"
        },
        "outputId": "6732f506-4023-4221-ff16-33be75dd1dd8"
      },
      "outputs": [
        {
          "output_type": "stream",
          "name": "stdout",
          "text": [
            "Array of 10 zeros: [0. 0. 0. 0. 0. 0. 0. 0. 0. 0.] \n",
            "A 2D array filled with zeros: \n",
            " [[0. 0.]\n",
            " [0. 0.]\n",
            " [0. 0.]\n",
            " [0. 0.]\n",
            " [0. 0.]] \n"
          ]
        }
      ],
      "source": [
        "array_zeros = np.zeros(10)\n",
        "print(f\"Array of 10 zeros: {array_zeros} \")\n",
        "\n",
        "# create a 2D array (matrix) of size 5x2, filled with zeros\n",
        "\n",
        "array_zeros1 = np.zeros((5, 2))\n",
        "print(f\"A 2D array filled with zeros: \\n {array_zeros1} \")"
      ]
    },
    {
      "cell_type": "markdown",
      "metadata": {
        "id": "eolD-GBbCfwT"
      },
      "source": [
        "#### 4.3. Create an array of 10 ones"
      ]
    },
    {
      "cell_type": "code",
      "execution_count": null,
      "metadata": {
        "id": "fr8Q_RN7CfwT",
        "colab": {
          "base_uri": "https://localhost:8080/"
        },
        "outputId": "d2a50a75-5940-41d4-c159-497debdb1165"
      },
      "outputs": [
        {
          "output_type": "stream",
          "name": "stdout",
          "text": [
            "Array of 10 ones: [1. 1. 1. 1. 1. 1. 1. 1. 1. 1.] \n",
            "A 2D array filled with ones:\n",
            " [[1. 1.]\n",
            " [1. 1.]\n",
            " [1. 1.]\n",
            " [1. 1.]\n",
            " [1. 1.]] \n"
          ]
        }
      ],
      "source": [
        "array_ones = np.ones(10)\n",
        "print(f\"Array of 10 ones: {array_ones} \")\n",
        "\n",
        "# create a 2D array of size 2x5 filled with ones.\n",
        "\n",
        "array_ones1 = np.ones((5, 2))\n",
        "print(f\"A 2D array filled with ones:\\n {array_ones1} \")\n"
      ]
    },
    {
      "cell_type": "markdown",
      "metadata": {
        "id": "DyNUUTP2CfwU"
      },
      "source": [
        "#### 4.4. Create an array of 10 fives"
      ]
    },
    {
      "cell_type": "code",
      "execution_count": null,
      "metadata": {
        "id": "Cyf_XeT_CfwU",
        "colab": {
          "base_uri": "https://localhost:8080/"
        },
        "outputId": "5f975a03-7702-4b2a-c611-1ad6551ea78e"
      },
      "outputs": [
        {
          "output_type": "stream",
          "name": "stdout",
          "text": [
            "Array of 10 fives: [5 5 5 5 5 5 5 5 5 5] \n",
            "Array of 10 fives in another way: [5. 5. 5. 5. 5. 5. 5. 5. 5. 5.] \n"
          ]
        }
      ],
      "source": [
        "array_fives = np.full(10, 5)\n",
        "print(f\"Array of 10 fives: {array_fives} \")\n",
        "\n",
        "# another way\n",
        "array_fives1 = np.ones(10) * 5\n",
        "print(f\"Array of 10 fives in another way: {array_fives1} \")"
      ]
    },
    {
      "cell_type": "markdown",
      "metadata": {
        "id": "CoT6zehKCfwU"
      },
      "source": [
        "#### 4.5. Create an array of the integers from 10 to 50"
      ]
    },
    {
      "cell_type": "code",
      "execution_count": null,
      "metadata": {
        "id": "23Xc-O2MCfwU",
        "colab": {
          "base_uri": "https://localhost:8080/"
        },
        "outputId": "ba235ff1-2040-4734-85b0-f17981aaebb4"
      },
      "outputs": [
        {
          "output_type": "stream",
          "name": "stdout",
          "text": [
            "\n",
            "Array of integers from 10 to 50: \n",
            " [10 11 12 13 14 15 16 17 18 19 20 21 22 23 24 25 26 27 28 29 30 31 32 33\n",
            " 34 35 36 37 38 39 40 41 42 43 44 45 46 47 48 49 50]\n",
            "\n",
            "The numbers divisible by 3 between \" 0 and 50 \" are: \n",
            " [ 0  3  6  9 12 15 18 21 24 27 30 33 36 39 42 45 48]\n"
          ]
        }
      ],
      "source": [
        "integers = np.arange(10, 51)\n",
        "print(f\"\\nArray of integers from 10 to 50: \\n {integers}\")\n",
        "print ()\n",
        "\n",
        "# Create an array of integers from 10 to 50 but only include numbers divisible by 3\n",
        "divisible = []\n",
        "for i in range (51):\n",
        "  if i % 3 == 0:\n",
        "    divisible.append(i)\n",
        "\n",
        "print (\"The numbers divisible by 3 between \\\" 0 and 50 \\\" are: \\n\", np.array(divisible))"
      ]
    },
    {
      "cell_type": "markdown",
      "metadata": {
        "id": "Y08z7II3CfwU"
      },
      "source": [
        "#### 4.6. Create an array of all the even integers from 10 to 50"
      ]
    },
    {
      "cell_type": "code",
      "execution_count": null,
      "metadata": {
        "id": "FjiPdNVeCfwU",
        "colab": {
          "base_uri": "https://localhost:8080/"
        },
        "outputId": "db89b347-a90e-404f-f20d-713d4d2a0a0e"
      },
      "outputs": [
        {
          "output_type": "stream",
          "name": "stdout",
          "text": [
            "\n",
            "Array of integers from 10 to 50: \n",
            "[10 12 14 16 18 20 22 24 26 28 30 32 34 36 38 40 42 44 46 48 50]\n"
          ]
        }
      ],
      "source": [
        "even_integers = np.arange(10, 51, 2)\n",
        "print(f\"\\nArray of integers from 10 to 50: \\n{even_integers}\")"
      ]
    },
    {
      "cell_type": "markdown",
      "metadata": {
        "id": "rIgNdYwNCfwV"
      },
      "source": [
        "#### 4.7. Create a 3x3 matrix with values ranging from 0 to 8"
      ]
    },
    {
      "cell_type": "code",
      "execution_count": null,
      "metadata": {
        "id": "cINh7dCwCfwV",
        "colab": {
          "base_uri": "https://localhost:8080/"
        },
        "outputId": "989a49b4-c734-4255-ee12-e3315d409b49"
      },
      "outputs": [
        {
          "output_type": "stream",
          "name": "stdout",
          "text": [
            "3x3 Matrix with values ranging from 0 to 8:\n",
            "[[0 1 2]\n",
            " [3 4 5]\n",
            " [6 7 8]]\n",
            "\n",
            "Original 4x4 Matrix:\n",
            "[[ 0  1  2  3]\n",
            " [ 4  5  6  7]\n",
            " [ 8  9 10 11]\n",
            " [12 13 14 15]]\n",
            "\n",
            "Reshaped 2x8 Matrix:\n",
            "[[ 0  1  2  3  4  5  6  7]\n",
            " [ 8  9 10 11 12 13 14 15]]\n"
          ]
        }
      ],
      "source": [
        "matr = np.arange(0, 9).reshape(3, 3)\n",
        "print(\"3x3 Matrix with values ranging from 0 to 8:\")\n",
        "print (matr)\n",
        "print ()\n",
        "\n",
        "# Create a 4x4 matrix with values ranging from 0 to 15 and then reshape it into a 2x8 matrix.\n",
        "array_1d = np.arange(16)\n",
        "matrix_4x4 = array_1d.reshape(4, 4)\n",
        "matrix_2x8 = matrix_4x4.reshape(2, 8)\n",
        "\n",
        "print(\"Original 4x4 Matrix:\")\n",
        "print(matrix_4x4)\n",
        "print ()\n",
        "print(\"Reshaped 2x8 Matrix:\")\n",
        "print(matrix_2x8)"
      ]
    },
    {
      "cell_type": "markdown",
      "metadata": {
        "id": "qdvGk1x2CfwV"
      },
      "source": [
        "#### 4.8. Create a 3x3 identity matrix"
      ]
    },
    {
      "cell_type": "code",
      "execution_count": null,
      "metadata": {
        "id": "ZsZoK2aUCfwV",
        "colab": {
          "base_uri": "https://localhost:8080/"
        },
        "outputId": "82045e4c-85ad-4766-8fae-f0b11f698a64"
      },
      "outputs": [
        {
          "output_type": "stream",
          "name": "stdout",
          "text": [
            "A 3x3 Identity Matrix:\n",
            "[[1. 0. 0.]\n",
            " [0. 1. 0.]\n",
            " [0. 0. 1.]]\n",
            "\n",
            "A 4x4 matrix with random integers between 1 and 10: \n",
            " [[ 2  9  4 10]\n",
            " [ 6  4  7  7]\n",
            " [ 8 10  9 10]\n",
            " [ 3  6  2  1]]\n"
          ]
        }
      ],
      "source": [
        "identity_matrix = np.eye (3)\n",
        "print(\"A 3x3 Identity Matrix:\")\n",
        "print(identity_matrix)\n",
        "print ()\n",
        "\n",
        "# Create a 4x4 matrix with random integers between 1 and 10\n",
        "matrix2 = np.random.randint(1, 11, size=(4, 4))\n",
        "print (\"A 4x4 matrix with random integers between 1 and 10:\", \"\\n\", matrix2)"
      ]
    },
    {
      "cell_type": "markdown",
      "metadata": {
        "id": "rZbHP0cPCfwY"
      },
      "source": [
        "#### 4.9. Use NumPy to generate a random number between 0 and 1"
      ]
    },
    {
      "cell_type": "code",
      "execution_count": 3,
      "metadata": {
        "id": "Y_C7yvf8CfwY",
        "colab": {
          "base_uri": "https://localhost:8080/"
        },
        "outputId": "4eb42cf6-8ed4-402b-f3fd-8d7d4f6a9a3c"
      },
      "outputs": [
        {
          "output_type": "stream",
          "name": "stdout",
          "text": [
            "Random number between 0 and 1:\n",
            "[0.18126465]\n",
            "\n",
            "A 3x3 array of random numbers: \n",
            " [[158  84 177]\n",
            " [192 162  73]\n",
            " [ 56 102 195]]\n"
          ]
        }
      ],
      "source": [
        "random_number = np.random.rand(1)\n",
        "print(\"Random number between 0 and 1:\")\n",
        "print(random_number)\n",
        "print ()\n",
        "\n",
        "# generate a 3x3 array of random numbers\n",
        "array3x3 = np.random.randint (50, 200, size=(3, 3))\n",
        "print (\"A 3x3 array of random numbers:\",\"\\n\",array3x3)"
      ]
    },
    {
      "cell_type": "markdown",
      "metadata": {
        "id": "kCRON1XYCfwY"
      },
      "source": [
        "#### 4.10. Use NumPy to generate an array of 25 random numbers sampled from a standard normal distribution"
      ]
    },
    {
      "cell_type": "code",
      "execution_count": null,
      "metadata": {
        "id": "XziENVRjCfwY",
        "colab": {
          "base_uri": "https://localhost:8080/"
        },
        "outputId": "ebefebc9-4402-4931-892a-cd8e4c533757"
      },
      "outputs": [
        {
          "output_type": "stream",
          "name": "stdout",
          "text": [
            "Array of 25 random numbers sampled from a standard normal distribution:\n",
            "[-0.14600221  0.32414628 -1.61502726  0.02908865  0.1827234   1.19459461\n",
            "  0.3427919   0.6636602   0.00233578  1.51249029 -1.19353848 -1.23223436\n",
            "  0.26575083 -0.32554154 -1.4840739   0.67995468  0.78933365 -1.52656683\n",
            " -1.51747544  0.67577853  0.16544258 -0.66733694  0.77519193  0.08549024\n",
            "  2.0750064 ]\n"
          ]
        }
      ],
      "source": [
        "random_numbers_normal_distribution = np.random.randn(25)\n",
        "print(\"Array of 25 random numbers sampled from a standard normal distribution:\")\n",
        "print(random_numbers_normal_distribution)"
      ]
    },
    {
      "cell_type": "markdown",
      "metadata": {
        "id": "QYp6tu4kCfwZ"
      },
      "source": [
        "#### 4.11. Create an array of 20 linearly spaced points between 0 and 1:"
      ]
    },
    {
      "cell_type": "code",
      "execution_count": null,
      "metadata": {
        "id": "DAAE6jnoCfwZ",
        "colab": {
          "base_uri": "https://localhost:8080/"
        },
        "outputId": "c6e8c809-8a2a-40a6-8e3f-d586706e2249"
      },
      "outputs": [
        {
          "output_type": "stream",
          "name": "stdout",
          "text": [
            "Array of 20 linearly spaced points between 0 and 1:\n",
            "[0.         0.05263158 0.10526316 0.15789474 0.21052632 0.26315789\n",
            " 0.31578947 0.36842105 0.42105263 0.47368421 0.52631579 0.57894737\n",
            " 0.63157895 0.68421053 0.73684211 0.78947368 0.84210526 0.89473684\n",
            " 0.94736842 1.        ]\n"
          ]
        }
      ],
      "source": [
        "linear_spaced_points = np.linspace(0, 1, 20)\n",
        "print(\"Array of 20 linearly spaced points between 0 and 1:\")\n",
        "print(linear_spaced_points)"
      ]
    },
    {
      "cell_type": "markdown",
      "metadata": {
        "id": "DqLdYogmCfwZ"
      },
      "source": [
        "## 4.12. Numpy Indexing and Selection\n",
        "\n",
        "Now you will be given a few matrices, and be asked to replicate the resulting matrix outputs:"
      ]
    },
    {
      "cell_type": "code",
      "execution_count": null,
      "metadata": {
        "id": "Dp5tAquyCfwZ",
        "colab": {
          "base_uri": "https://localhost:8080/"
        },
        "outputId": "db794692-3fe9-4cf8-d19f-1c4b5b1012dc"
      },
      "outputs": [
        {
          "output_type": "execute_result",
          "data": {
            "text/plain": [
              "array([[ 1,  2,  3,  4,  5],\n",
              "       [ 6,  7,  8,  9, 10],\n",
              "       [11, 12, 13, 14, 15],\n",
              "       [16, 17, 18, 19, 20],\n",
              "       [21, 22, 23, 24, 25]])"
            ]
          },
          "metadata": {},
          "execution_count": 76
        }
      ],
      "source": [
        "mat = np.arange(1,26).reshape(5,5)\n",
        "mat"
      ]
    },
    {
      "cell_type": "markdown",
      "source": [
        "## 4.13.\n",
        "### WRITE CODE HERE THAT REPRODUCES THE OUTPUT OF THE CELL BELOW\n",
        "### BE CAREFUL NOT TO RUN THE CELL BELOW, OTHERWISE YOU WON'T\n",
        "### BE ABLE TO SEE THE OUTPUT ANY MORE\n",
        "\n",
        "\n",
        "\n",
        "```\n",
        "array([[12, 13, 14, 15],\n",
        "       [17, 18, 19, 20],\n",
        "       [22, 23, 24, 25]])\n",
        "\n",
        "\n",
        "```\n",
        "\n"
      ],
      "metadata": {
        "id": "NWQ1_Ni2fCiF"
      }
    },
    {
      "cell_type": "code",
      "source": [
        "# Create arrays for each row\n",
        "row1 = np.arange(12, 16)\n",
        "row2 = np.arange(17, 21)\n",
        "row3 = np.arange(22, 26)\n",
        "\n",
        "# Concatenate the arrays vertically\n",
        "result_array = np.vstack((row1, row2, row3))\n",
        "\n",
        "print(result_array)\n"
      ],
      "metadata": {
        "colab": {
          "base_uri": "https://localhost:8080/"
        },
        "id": "cRj7HD-Jf_hb",
        "outputId": "9f786471-4cf5-44fb-b68e-ed801a6c011e"
      },
      "execution_count": null,
      "outputs": [
        {
          "output_type": "stream",
          "name": "stdout",
          "text": [
            "[[12 13 14 15]\n",
            " [17 18 19 20]\n",
            " [22 23 24 25]]\n"
          ]
        }
      ]
    },
    {
      "cell_type": "markdown",
      "source": [
        "## 4.14.\n",
        "\n",
        "#### WRITE CODE HERE THAT REPRODUCES THE OUTPUT OF THE CELL BELOW\n",
        "#### BE CAREFUL NOT TO RUN THE CELL BELOW, OTHERWISE YOU WON'T\n",
        "#### BE ABLE TO SEE THE OUTPUT ANY MORE\n",
        "\n",
        "\n",
        "\n",
        "```\n",
        "20\n",
        "```\n",
        "\n"
      ],
      "metadata": {
        "id": "OqUit6CXkAaJ"
      }
    },
    {
      "cell_type": "code",
      "execution_count": null,
      "metadata": {
        "id": "4P6Xj7PjCfwa",
        "colab": {
          "base_uri": "https://localhost:8080/"
        },
        "outputId": "073bd3e5-7581-4b7c-9233-5883a4ba676d"
      },
      "outputs": [
        {
          "output_type": "stream",
          "name": "stdout",
          "text": [
            "20\n"
          ]
        }
      ],
      "source": [
        "x = np.array (20)\n",
        "print (x)"
      ]
    },
    {
      "cell_type": "markdown",
      "source": [
        "## 4.15.\n",
        "\n",
        "#### WRITE CODE HERE THAT REPRODUCES THE OUTPUT OF THE CELL BELOW\n",
        "#### BE CAREFUL NOT TO RUN THE CELL BELOW, OTHERWISE YOU WON'T\n",
        "### BE ABLE TO SEE THE OUTPUT ANY MORE\n",
        "\n",
        "\n",
        "\n",
        "```\n",
        "array([[ 2],\n",
        "       [ 7],\n",
        "       [12]])\n",
        "\n",
        "```\n",
        "\n"
      ],
      "metadata": {
        "id": "laDQaEMPlFkO"
      }
    },
    {
      "cell_type": "code",
      "execution_count": null,
      "metadata": {
        "collapsed": true,
        "id": "l_k85rRsCfwa",
        "colab": {
          "base_uri": "https://localhost:8080/"
        },
        "outputId": "9227424f-f55d-4f4d-c52b-11a6ca7c2858"
      },
      "outputs": [
        {
          "output_type": "execute_result",
          "data": {
            "text/plain": [
              "array([[ 2],\n",
              "       [ 7],\n",
              "       [12]])"
            ]
          },
          "metadata": {},
          "execution_count": 92
        }
      ],
      "source": [
        "y = np.arange(2, 13, 5)\n",
        "y.reshape((3, 1))"
      ]
    },
    {
      "cell_type": "markdown",
      "source": [
        "## 4.16.\n",
        "\n",
        "#### WRITE CODE HERE THAT REPRODUCES THE OUTPUT OF THE CELL BELOW\n",
        "#### BE CAREFUL NOT TO RUN THE CELL BELOW, OTHERWISE YOU WON'T\n",
        "#### BE ABLE TO SEE THE OUTPUT ANY MORE\n",
        "\n",
        "\n",
        "```\n",
        "array([21, 22, 23, 24, 25])\n",
        "\n",
        "```\n",
        "\n"
      ],
      "metadata": {
        "id": "pGbXVP4pneBQ"
      }
    },
    {
      "cell_type": "code",
      "execution_count": null,
      "metadata": {
        "collapsed": true,
        "id": "g3sJctWmCfwb",
        "colab": {
          "base_uri": "https://localhost:8080/"
        },
        "outputId": "3da19d49-d787-464d-bfe7-ce087dbe43be"
      },
      "outputs": [
        {
          "output_type": "execute_result",
          "data": {
            "text/plain": [
              "array([21, 22, 23, 24, 25])"
            ]
          },
          "metadata": {},
          "execution_count": 95
        }
      ],
      "source": [
        "z = np.arange(21, 26)\n",
        "z"
      ]
    },
    {
      "cell_type": "markdown",
      "source": [
        "## 4.17.\n",
        "\n",
        "#### WRITE CODE HERE THAT REPRODUCES THE OUTPUT OF THE CELL BELOW\n",
        "#### BE CAREFUL NOT TO RUN THE CELL BELOW, OTHERWISE YOU WON'T\n",
        "#### BE ABLE TO SEE THE OUTPUT ANY MORE\n",
        "\n",
        "\n",
        "\n",
        "\n",
        "```\n",
        "array([[16, 17, 18, 19, 20],\n",
        "       [21, 22, 23, 24, 25]])\n",
        "\n",
        "```"
      ],
      "metadata": {
        "id": "Y3d_XcbmoDlL"
      }
    },
    {
      "cell_type": "code",
      "execution_count": null,
      "metadata": {
        "collapsed": true,
        "id": "412r4Ja6Cfwb",
        "colab": {
          "base_uri": "https://localhost:8080/"
        },
        "outputId": "751718e9-cd36-4176-9906-c8b41b7453db"
      },
      "outputs": [
        {
          "output_type": "execute_result",
          "data": {
            "text/plain": [
              "array([[16, 17, 18, 19, 20],\n",
              "       [21, 22, 23, 24, 25]])"
            ]
          },
          "metadata": {},
          "execution_count": 101
        }
      ],
      "source": [
        "q = np.arange(16, 26).reshape(2, 5)\n",
        "q"
      ]
    },
    {
      "cell_type": "markdown",
      "metadata": {
        "id": "UXWAheE2Cfwb"
      },
      "source": [
        "### Now do the following"
      ]
    },
    {
      "cell_type": "markdown",
      "metadata": {
        "id": "pcQRbVkkCfwb"
      },
      "source": [
        "## 4.18.\n",
        "#### Get the sum of all the values in mat"
      ]
    },
    {
      "cell_type": "code",
      "execution_count": null,
      "metadata": {
        "id": "Y4EUqtIvCfwb",
        "colab": {
          "base_uri": "https://localhost:8080/"
        },
        "outputId": "9f0d6f29-990c-4e50-92d2-1407c16a7d6b"
      },
      "outputs": [
        {
          "output_type": "execute_result",
          "data": {
            "text/plain": [
              "325"
            ]
          },
          "metadata": {},
          "execution_count": 107
        }
      ],
      "source": [
        "# Calculate the summation\n",
        "\n",
        "mat.sum()"
      ]
    },
    {
      "cell_type": "markdown",
      "metadata": {
        "id": "-VQSlM07Cfwc"
      },
      "source": [
        "## 4.19.\n",
        "\n",
        "#### Get the standard deviation of the values in mat"
      ]
    },
    {
      "cell_type": "code",
      "execution_count": null,
      "metadata": {
        "id": "6ypLCYZmCfwc",
        "colab": {
          "base_uri": "https://localhost:8080/"
        },
        "outputId": "c0df8c46-420e-4f0f-c176-9e1bd7775dfd"
      },
      "outputs": [
        {
          "output_type": "stream",
          "name": "stdout",
          "text": [
            "Standard deviation along axis 0 (columns): \n",
            " [7.07106781 7.07106781 7.07106781 7.07106781 7.07106781]\n",
            "Standard deviation along axis 1 (rows): \n",
            " [1.41421356 1.41421356 1.41421356 1.41421356 1.41421356]\n"
          ]
        }
      ],
      "source": [
        "# Calculate the standard deviation along axis 0 (columns)\n",
        "std_dev_axis0 = np.std(mat, axis=0)\n",
        "\n",
        "# Calculate the standard deviation along axis 1 (rows)\n",
        "std_dev_axis1 = np.std(mat, axis=1)\n",
        "\n",
        "print(\"Standard deviation along axis 0 (columns):\",\"\\n\", std_dev_axis0)\n",
        "print(\"Standard deviation along axis 1 (rows):\",\"\\n\", std_dev_axis1)"
      ]
    },
    {
      "cell_type": "markdown",
      "metadata": {
        "id": "XwPJQUWBCfwc"
      },
      "source": [
        "## 4.20.\n",
        "\n",
        "#### Get the sum of all the columns in mat"
      ]
    },
    {
      "cell_type": "code",
      "execution_count": null,
      "metadata": {
        "id": "sMVPRBZLCfwc",
        "colab": {
          "base_uri": "https://localhost:8080/"
        },
        "outputId": "dc22f92a-dd67-4514-8252-b6ab1ea33913"
      },
      "outputs": [
        {
          "output_type": "stream",
          "name": "stdout",
          "text": [
            "Sum of all the columns:\n",
            "[55 60 65 70 75]\n"
          ]
        }
      ],
      "source": [
        "# Calculate the sum of all the columns\n",
        "column_sums = np.sum(mat, axis=0)\n",
        "\n",
        "print(\"Sum of all the columns:\")\n",
        "print(column_sums)"
      ]
    },
    {
      "cell_type": "markdown",
      "metadata": {
        "collapsed": true,
        "id": "ZfFbGFowCfwc"
      },
      "source": [
        "# Great Job!"
      ]
    }
  ],
  "metadata": {
    "kernelspec": {
      "display_name": "Python 3",
      "language": "python",
      "name": "python3"
    },
    "language_info": {
      "codemirror_mode": {
        "name": "ipython",
        "version": 3
      },
      "file_extension": ".py",
      "mimetype": "text/x-python",
      "name": "python",
      "nbconvert_exporter": "python",
      "pygments_lexer": "ipython3",
      "version": "3.5.1"
    },
    "colab": {
      "provenance": []
    }
  },
  "nbformat": 4,
  "nbformat_minor": 0
}