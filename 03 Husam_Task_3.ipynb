{
  "nbformat": 4,
  "nbformat_minor": 0,
  "metadata": {
    "colab": {
      "provenance": []
    },
    "kernelspec": {
      "name": "python3",
      "display_name": "Python 3"
    },
    "language_info": {
      "name": "python"
    }
  },
  "cells": [
    {
      "cell_type": "markdown",
      "source": [
        "# 3.1. Write Python script for discount coupon. Discounts on a product based on a coupon code: DISCOUNT10 ->    price - 10%"
      ],
      "metadata": {
        "id": "DjYIUwVjpI1V"
      }
    },
    {
      "cell_type": "code",
      "execution_count": null,
      "metadata": {
        "id": "2oT1vIxTo9Yn",
        "colab": {
          "base_uri": "https://localhost:8080/"
        },
        "outputId": "4f5d6c39-89b0-47c6-9fd2-3606d083a08c"
      },
      "outputs": [
        {
          "output_type": "stream",
          "name": "stdout",
          "text": [
            "Welcome to the discount program\n",
            "Enter the original price of the product: 33\n",
            "Enter the coupon code (or leave blank for no coupon): \n",
            "Final price after applying coupon: 33.0\n"
          ]
        }
      ],
      "source": [
        "# welcoming\n",
        "print (\"Welcome to the discount program\")\n",
        "\n",
        "def apply_discount(price, coupon_code):\n",
        "    if coupon_code == \"DISCOUNT10\":\n",
        "        discounted_price = price * 0.9  # 10% discount\n",
        "        return discounted_price\n",
        "    else:\n",
        "        return price  # No discount applied for other coupon codes or no coupon\n",
        "\n",
        "# Take input for product price\n",
        "while True:\n",
        "    # Take input for product price\n",
        "    product_price = input(\"Enter the original price of the product: \")\n",
        "    try:\n",
        "        product_price = float(product_price)\n",
        "        break\n",
        "    except ValueError:\n",
        "        print(\"Invalid input. Please enter a valid number.\")\n",
        "\n",
        "# Take input for coupon code\n",
        "coupon = input(\"Enter the coupon code (or leave blank for no coupon): \")\n",
        "\n",
        "final_price = apply_discount(product_price, coupon)\n",
        "print(\"Final price after applying coupon:\", final_price)\n"
      ]
    },
    {
      "cell_type": "markdown",
      "source": [
        "# 3.2. Write a program that takes an integer input from the user. Use a while loop to keep doubling the number until it is greater than 1000, then print the result"
      ],
      "metadata": {
        "id": "HGRGkngQpg0Q"
      }
    },
    {
      "cell_type": "code",
      "source": [
        "# Welcoming\n",
        "print(\"Welcome to the number doubling program\")\n",
        "\n",
        "while True:\n",
        "    # Prompt the user to input an integer\n",
        "    while True:\n",
        "        try:\n",
        "            num = int(input(\"Enter an integer to double it: \"))\n",
        "            if num > 0:  # Check if the entered number is greater than 0\n",
        "                break\n",
        "            else:\n",
        "                print(\"Invalid input. Please enter a positive integer.\")\n",
        "        except ValueError:\n",
        "            print(\"Invalid input. Please enter a valid integer.\")\n",
        "\n",
        "    # Prompt the user to input the doubling factor\n",
        "    while True:\n",
        "      try:\n",
        "        doubling_factor = int(input(\"Enter the doubling factor: \"))\n",
        "        if doubling_factor > 0: # Check if the entered factor is greater than 0\n",
        "          break\n",
        "        else:\n",
        "          print(\"Invalid input. Please enter a positive integer.\")\n",
        "      except ValueError:\n",
        "            print(\"Invalid input. Please enter a valid integer.\")\n",
        "\n",
        "\n",
        "    # Use a while loop to double the number until it exceeds 1000\n",
        "    while num <= 1000:\n",
        "        num *= doubling_factor\n",
        "\n",
        "    # Print the result\n",
        "    print(\"The result after multiplying until greater than 1000:\", num)\n",
        "\n",
        "    # Ask if the user wants to play again\n",
        "    again = input(\"Would you like to play again? Write [yes] if you would like to: \")\n",
        "    if again.lower() != \"yes\":\n",
        "        break"
      ],
      "metadata": {
        "id": "nhDsgrtFpIbK",
        "colab": {
          "base_uri": "https://localhost:8080/"
        },
        "outputId": "1b2228c9-e45f-4b58-fa46-a4a48e805684"
      },
      "execution_count": null,
      "outputs": [
        {
          "name": "stdout",
          "output_type": "stream",
          "text": [
            "Welcome to the number doubling program\n",
            "Enter an integer to double it: j\n",
            "Invalid input. Please enter a valid integer.\n",
            "Enter an integer to double it: -5\n",
            "Invalid input. Please enter a positive integer.\n",
            "Enter an integer to double it: 20\n",
            "Enter the doubling factor: 5\n",
            "The result after multiplying until greater than 1000: 2500\n",
            "Would you like to play again? Write [yes] if you would like to: no\n"
          ]
        }
      ]
    },
    {
      "cell_type": "markdown",
      "source": [
        "# 3.3. Write a program that takes a number as input from the user. If the number is greater than 10, print \"Big number\". If the number is less than or equal to 10, print \"Small number\".\n"
      ],
      "metadata": {
        "id": "cUWWH9B1plvr"
      }
    },
    {
      "cell_type": "code",
      "source": [
        "# Welcoming\n",
        "print(\"Welcome to the checking number program\")\n",
        "\n",
        "def check_number():\n",
        "  while True:\n",
        "    while True:\n",
        "      try:\n",
        "        # Take input from the user\n",
        "        number = float(input(\"Enter a number: \"))\n",
        "        break\n",
        "      except:\n",
        "        print(\"Invalid input. Please enter a valid integer.\")\n",
        "\n",
        "    # Check if the number is greater than 10\n",
        "    if number > 10:\n",
        "        print(\"Big number\")\n",
        "    else:\n",
        "        print(\"Small number\")\n",
        "\n",
        " # Ask if the user wants to play again\n",
        "    again = input(\"Would you like to play again? Write [yes] if you would like to: \")\n",
        "    if again.lower() != \"yes\":\n",
        "        break\n",
        "# Call the function\n",
        "check_number()\n"
      ],
      "metadata": {
        "colab": {
          "base_uri": "https://localhost:8080/"
        },
        "id": "ad-oMSYlaQkW",
        "outputId": "03791a84-51ad-4b25-b733-4429c286d75c"
      },
      "execution_count": null,
      "outputs": [
        {
          "name": "stdout",
          "output_type": "stream",
          "text": [
            "Enter a number: -5\n",
            "Small number\n",
            "Would you like to play again? Write [yes] if you would like to: yes\n",
            "Enter a number: 50\n",
            "Big number\n",
            "Would you like to play again? Write [yes] if you would like to: no\n"
          ]
        }
      ]
    },
    {
      "cell_type": "markdown",
      "source": [
        "# 3.4. Write a function that takes a list of numbers and returns a new list containing only the even numbers.\n"
      ],
      "metadata": {
        "id": "9EcwNtrXpsGc"
      }
    },
    {
      "cell_type": "code",
      "source": [
        "# Welcoming\n",
        "\n",
        "print(\"Welcome to the even number program\")\n",
        "\n",
        "def filter_even_numbers(numbers):\n",
        "    even_numbers = []\n",
        "    for num in numbers:\n",
        "        if num % 2 == 0:\n",
        "            even_numbers.append(num)\n",
        "    return even_numbers\n",
        "\n",
        "# Example usage:\n",
        "\n",
        "numbers = [1, 2, 3, 4, 5, 6, 7, 8, 9, 10]\n",
        "result = filter_even_numbers(numbers)\n",
        "print(\"Even numbers are:\", result)"
      ],
      "metadata": {
        "id": "hziEoGEXzmgs",
        "colab": {
          "base_uri": "https://localhost:8080/"
        },
        "outputId": "2871ce67-ca01-4640-d213-89e804c222d0"
      },
      "execution_count": null,
      "outputs": [
        {
          "output_type": "stream",
          "name": "stdout",
          "text": [
            "Welcome to the even number program\n",
            "Even numbers are: None\n"
          ]
        }
      ]
    },
    {
      "cell_type": "markdown",
      "source": [
        "# 3.5. Write a function that takes a list and returns a new list with duplicate values removed."
      ],
      "metadata": {
        "id": "RmhFZrpPpxV4"
      }
    },
    {
      "cell_type": "code",
      "source": [
        "print(\"Welcome to the duplicate values removing program\")\n",
        "\n",
        "def remove_duplicates():\n",
        "    import random\n",
        "    # Create a list with random numbers\n",
        "    random_numbers = [random.randint(1, 20) for _ in range(20)]\n",
        "    print(\"Random numbers with duplicates:\", random_numbers)\n",
        "    unique_numbers = list(set(random_numbers))  # Remove duplicates using set and convert back to a list\n",
        "    return unique_numbers\n",
        "\n",
        "# Call the function\n",
        "unique_random_numbers = remove_duplicates()\n",
        "print(\"Random numbers with duplicates removed:\", unique_random_numbers)\n"
      ],
      "metadata": {
        "colab": {
          "base_uri": "https://localhost:8080/"
        },
        "id": "YBjiGOPKjOfG",
        "outputId": "a4459665-5a71-4b00-fd50-92cf0d160d29"
      },
      "execution_count": null,
      "outputs": [
        {
          "output_type": "stream",
          "name": "stdout",
          "text": [
            "Welcome to the duplicate values removing program\n",
            "Random numbers with duplicates: [2, 8, 17, 11, 9, 14, 6, 8, 6, 14, 8, 6, 13, 4, 11, 13, 1, 13, 6, 8]\n",
            "Random numbers with duplicates removed: [1, 2, 4, 6, 8, 9, 11, 13, 14, 17]\n"
          ]
        }
      ]
    },
    {
      "cell_type": "markdown",
      "source": [
        "# 3.6. Write a function that takes a tuple and returns a reversed version of that tuple.\n"
      ],
      "metadata": {
        "id": "vHl1AHxFp3Kk"
      }
    },
    {
      "cell_type": "code",
      "source": [
        "def reverse_tuple(input_tuple):\n",
        "    return input_tuple[::-1]\n",
        "\n",
        "# Example usage:\n",
        "import random\n",
        "random_tuple = tuple(random.randint(1, 100) for _ in range(5))\n",
        "reversed_tuple = reverse_tuple(random_tuple)\n",
        "print(\"Original Tuple:\", random_tuple)\n",
        "print(\"Reversed Tuple:\", reversed_tuple)\n"
      ],
      "metadata": {
        "id": "o_xVChQ0kBdd",
        "colab": {
          "base_uri": "https://localhost:8080/"
        },
        "outputId": "09e719da-2238-456e-92cf-4158b9ac81dc"
      },
      "execution_count": 1,
      "outputs": [
        {
          "output_type": "stream",
          "name": "stdout",
          "text": [
            "Original Tuple: (48, 29, 73, 58, 56)\n",
            "Reversed Tuple: (56, 58, 73, 29, 48)\n"
          ]
        }
      ]
    }
  ]
}